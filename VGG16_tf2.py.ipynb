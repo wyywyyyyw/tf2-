{
 "cells": [
  {
   "cell_type": "code",
   "execution_count": 13,
   "metadata": {},
   "outputs": [],
   "source": [
    "import tensorflow as tf\n",
    "from tensorflow.keras.layers import Conv2D, Input, MaxPooling2D, Flatten, Dense\n",
    "from tensorflow.keras import Model\n",
    "from tensorflow.keras.utils import get_file\n",
    "from tensorflow.keras.preprocessing import image\n",
    "from tensorflow.keras.applications.imagenet_utils import decode_predictions\n",
    "from tensorflow.keras.applications.imagenet_utils import preprocess_input\n",
    "import numpy as np"
   ]
  },
  {
   "cell_type": "code",
   "execution_count": 2,
   "metadata": {},
   "outputs": [],
   "source": [
    "def VGG16(classes):\n",
    "    image_input = Input(shape=(224, 224, 3))\n",
    "    \n",
    "    # 224,224,3 -> 224,224,64 \n",
    "    x = Conv2D(64, (3, 3), activation='relu', padding='same', name='block1-conv1')(image_input)\n",
    "    x = Conv2D(64, (3, 3), activation='relu', padding='same', name='block1-conv2')(x)\n",
    "    \n",
    "    # 224,224,64 -> 112,112,64\n",
    "    x = MaxPooling2D((2, 2), strides=(2, 2), name='block1-pooling')(x)\n",
    "    \n",
    "    # 112,112,64 -> 112,112,128\n",
    "    x = Conv2D(128, (3, 3), activation='relu', padding='same', name='block2-conv1')(x)\n",
    "    x = Conv2D(128, (3, 3), activation='relu', padding='same', name='block2-conv2')(x)\n",
    "    \n",
    "    # 112,112,128 -> 56,56,128\n",
    "    x = MaxPooling2D((2, 2), strides=(2, 2), name='block2-pooling')(x)\n",
    "    \n",
    "    # 56,56,128 -> 56,56,256\n",
    "    x = Conv2D(256, (3, 3), activation='relu', padding='same', name='block3-conv1')(x)\n",
    "    x = Conv2D(256, (3, 3), activation='relu', padding='same', name='block3-conv2')(x)\n",
    "    x = Conv2D(256, (3, 3), activation='relu', padding='same', name='block3-conv3')(x)\n",
    "    \n",
    "    # 56,56,256 -> 28,28,256\n",
    "    x = MaxPooling2D((2, 2), strides=(2, 2), name='block3-pooling')(x)\n",
    "    \n",
    "    # 28,28,256 -> 28,28,512\n",
    "    x = Conv2D(512, (3, 3), activation='relu', padding='same', name='block4-conv1')(x)\n",
    "    x = Conv2D(512, (3, 3), activation='relu', padding='same', name='block4-conv2')(x)\n",
    "    x = Conv2D(512, (3, 3), activation='relu', padding='same', name='block4-conv3')(x)\n",
    "    \n",
    "    # 28,28,512 -> 14,14,512\n",
    "    x = MaxPooling2D((2, 2), strides=(2, 2), name='block4-pooling')(x)\n",
    "    \n",
    "    # 14,14,512 -> 14,14,512 there's no change in this block\n",
    "    x = Conv2D(512, (3, 3), activation='relu', padding='same', name='block5-conv1')(x)\n",
    "    x = Conv2D(512, (3, 3), activation='relu', padding='same', name='block5-conv2')(x)\n",
    "    x = Conv2D(512, (3, 3), activation='relu', padding='same', name='block5-conv3')(x)\n",
    "    \n",
    "    # 14,14,512 -> 7,7,512\n",
    "    x = MaxPooling2D((2, 2), strides=(2, 2), name='block5-pooling')(x)\n",
    "    \n",
    "    #Flatten, softmax, fc\n",
    "    x = Flatten()(x)\n",
    "    x = Dense(4096, activation='relu', name='fc1')(x)\n",
    "    x = Dense(4096, activation='relu', name='fc2')(x)\n",
    "    x = Dense(classes, activation='softmax', name='softmax')(x)\n",
    "    \n",
    "    model = Model(image_input,x,name = 'vgg16')\n",
    "    \n",
    "    return model"
   ]
  },
  {
   "cell_type": "code",
   "execution_count": 3,
   "metadata": {},
   "outputs": [
    {
     "name": "stdout",
     "output_type": "stream",
     "text": [
      "Model: \"vgg16\"\n",
      "_________________________________________________________________\n",
      "Layer (type)                 Output Shape              Param #   \n",
      "=================================================================\n",
      "input_1 (InputLayer)         [(None, 224, 224, 3)]     0         \n",
      "_________________________________________________________________\n",
      "block1-conv1 (Conv2D)        (None, 224, 224, 64)      1792      \n",
      "_________________________________________________________________\n",
      "block1-conv2 (Conv2D)        (None, 224, 224, 64)      36928     \n",
      "_________________________________________________________________\n",
      "block1-pooling (MaxPooling2D (None, 112, 112, 64)      0         \n",
      "_________________________________________________________________\n",
      "block2-conv1 (Conv2D)        (None, 112, 112, 128)     73856     \n",
      "_________________________________________________________________\n",
      "block2-conv2 (Conv2D)        (None, 112, 112, 128)     147584    \n",
      "_________________________________________________________________\n",
      "block2-pooling (MaxPooling2D (None, 56, 56, 128)       0         \n",
      "_________________________________________________________________\n",
      "block3-conv1 (Conv2D)        (None, 56, 56, 256)       295168    \n",
      "_________________________________________________________________\n",
      "block3-conv2 (Conv2D)        (None, 56, 56, 256)       590080    \n",
      "_________________________________________________________________\n",
      "block3-conv3 (Conv2D)        (None, 56, 56, 256)       590080    \n",
      "_________________________________________________________________\n",
      "block3-pooling (MaxPooling2D (None, 28, 28, 256)       0         \n",
      "_________________________________________________________________\n",
      "block4-conv1 (Conv2D)        (None, 28, 28, 512)       1180160   \n",
      "_________________________________________________________________\n",
      "block4-conv2 (Conv2D)        (None, 28, 28, 512)       2359808   \n",
      "_________________________________________________________________\n",
      "block4-conv3 (Conv2D)        (None, 28, 28, 512)       2359808   \n",
      "_________________________________________________________________\n",
      "block4-pooling (MaxPooling2D (None, 14, 14, 512)       0         \n",
      "_________________________________________________________________\n",
      "block5-conv1 (Conv2D)        (None, 14, 14, 512)       2359808   \n",
      "_________________________________________________________________\n",
      "block5-conv2 (Conv2D)        (None, 14, 14, 512)       2359808   \n",
      "_________________________________________________________________\n",
      "block5-conv3 (Conv2D)        (None, 14, 14, 512)       2359808   \n",
      "_________________________________________________________________\n",
      "block5-pooling (MaxPooling2D (None, 7, 7, 512)         0         \n",
      "_________________________________________________________________\n",
      "flatten (Flatten)            (None, 25088)             0         \n",
      "_________________________________________________________________\n",
      "fc1 (Dense)                  (None, 4096)              102764544 \n",
      "_________________________________________________________________\n",
      "fc2 (Dense)                  (None, 4096)              16781312  \n",
      "_________________________________________________________________\n",
      "softmax (Dense)              (None, 1000)              4097000   \n",
      "=================================================================\n",
      "Total params: 138,357,544\n",
      "Trainable params: 138,357,544\n",
      "Non-trainable params: 0\n",
      "_________________________________________________________________\n"
     ]
    }
   ],
   "source": [
    "model = VGG16(1000)\n",
    "model.summary()"
   ]
  },
  {
   "cell_type": "code",
   "execution_count": 14,
   "metadata": {},
   "outputs": [
    {
     "name": "stdout",
     "output_type": "stream",
     "text": [
      "Input image shape: (1, 224, 224, 3)\n",
      "Downloading data from https://storage.googleapis.com/download.tensorflow.org/data/imagenet_class_index.json\n",
      "40960/35363 [==================================] - 0s 2us/step\n",
      "Predicted: [[('n02504458', 'African_elephant', 0.323967), ('n02504013', 'Indian_elephant', 0.3073574), ('n01871265', 'tusker', 0.26564506), ('n02437312', 'Arabian_camel', 0.061291706), ('n01688243', 'frilled_lizard', 0.00702472)]]\n"
     ]
    }
   ],
   "source": [
    "WEIGHTS_PATH = 'vgg16_weights_tf_dim_ordering_tf_kernels.h5'\n",
    "\n",
    "model.load_weights(WEIGHTS_PATH)\n",
    "img_path = 'elephant.jpg'\n",
    "img = image.load_img(img_path, target_size=(224, 224))\n",
    "x = image.img_to_array(img)\n",
    "x = np.expand_dims(x, axis=0)\n",
    "x = preprocess_input(x)\n",
    "print('Input image shape:', x.shape)\n",
    "\n",
    "preds = model.predict(x)\n",
    "print('Predicted:', decode_predictions(preds))"
   ]
  },
  {
   "cell_type": "code",
   "execution_count": null,
   "metadata": {},
   "outputs": [],
   "source": []
  }
 ],
 "metadata": {
  "kernelspec": {
   "display_name": "Python 3",
   "language": "python",
   "name": "python3"
  },
  "language_info": {
   "codemirror_mode": {
    "name": "ipython",
    "version": 3
   },
   "file_extension": ".py",
   "mimetype": "text/x-python",
   "name": "python",
   "nbconvert_exporter": "python",
   "pygments_lexer": "ipython3",
   "version": "3.7.3"
  }
 },
 "nbformat": 4,
 "nbformat_minor": 4
}
